{
 "cells": [
  {
   "cell_type": "code",
   "execution_count": 2,
   "metadata": {},
   "outputs": [],
   "source": [
    "import torch\n",
    "import numpy as np\n",
    "import torch.nn as nn\n",
    "\n",
    "from torch.utils.data import DataLoader, random_split\n",
    "\n",
    "cuda = torch.cuda.is_available()\n",
    "device = torch.device(\"cuda\" if torch.cuda.is_available() else \"cpu\")\n",
    "\n"
   ]
  },
  {
   "cell_type": "markdown",
   "metadata": {},
   "source": [
    "## Load Data"
   ]
  },
  {
   "cell_type": "code",
   "execution_count": null,
   "metadata": {},
   "outputs": [],
   "source": [
    "# Load data into some frame?\n"
   ]
  },
  {
   "cell_type": "markdown",
   "metadata": {},
   "source": [
    "## Split data into test, training, and validation\n",
    "- Does GAN need validation data?"
   ]
  },
  {
   "cell_type": "code",
   "execution_count": null,
   "metadata": {},
   "outputs": [],
   "source": [
    "random_seed = 42\n",
    "\n",
    "test_split = .2\n",
    "shuffle = True\n",
    "\n",
    "if random_seed is not None:\n",
    "    np.random.seed(random_seed)\n",
    "    \n",
    "dataset_size = len(midi_dataset)           #number of musics on dataset\n",
    "test_size = int(test_split * dataset_size) #test size length\n",
    "train_size = dataset_size - test_size      #train data length\n",
    "\n",
    "train_dataset, test_dataset = random_split(midi_dataset, [train_size, test_size, val_size])\n",
    "\n",
    "train_loader = DataLoader(train_dataset, shuffle=shuffle, batch_size=batch_size, num_workers=4)#, sampler=train_sampler)\n",
    "test_loader = DataLoader(test_dataset, shuffle=shuffle, batch_size=batch_size, num_workers=4)#, sampler=test_sampler)\n"
   ]
  },
  {
   "cell_type": "code",
   "execution_count": null,
   "metadata": {},
   "outputs": [],
   "source": [
    "\n",
    "\n",
    "class ConditionalGAN(nn.module):\n",
    "    def Generator():\n",
    "        self.conv_1 = nn.Conv2d(in_channels = ,\n",
    "                                out_channels = ,\n",
    "                                kernel_size = ,\n",
    "                                stride= )\n",
    "        \n",
    "        self.maxpool = nn.MaxPool2d(kernel_size=, stride=)\n",
    "        \n",
    "                \n",
    "        self.conv_2 = Conv2d(in_channels=num_filters_conv1,\n",
    "                            out_channels=num_filters_conv2,\n",
    "                            kernel_size=kernel_size_conv2,\n",
    "                            stride=stride_conv2)\n",
    "        \n",
    "        \n",
    "    \n",
    "    def Discriminator():\n",
    "        \n",
    "    \n",
    "    def __init__(self, latent_features,teacher_forcing, eps_i):\n",
    "        super(VariationalAutoencoder, self).__init__()\n",
    "        \n",
    "        self.teacher_forcing = teacher_forcing\n",
    "        self.eps_i = eps_i\n",
    "\n",
    "        self.latent_features = latent_features\n",
    "\n",
    "        #data goes into bidirectional encoder\n",
    "        self.encoder = torch.nn.LSTM(\n",
    "                batch_first = True,\n",
    "                input_size = input_size,\n",
    "                hidden_size = enc_hidden_size,\n",
    "                num_layers = 1,\n",
    "                bidirectional = True)\n",
    "        \n",
    "        #encoded data goes onto connect linear layer. inputs must be*2 because LSTM is bidirectional\n",
    "        #output must be 2*latentspace because it needs to be split into miu and sigma right after.\n",
    "        self.encoderOut = nn.Linear(in_features=enc_hidden_size*2, out_features=latent_features*2)\n",
    "        \n",
    "        #after being converted data goes through a fully connected layer\n",
    "        self.linear_z = nn.Linear(in_features=latent_features, out_features=decoders_initial_size)\n",
    "        \n",
    "        self.dropout= nn.Dropout(p=dropout_rate)\n",
    "        \n",
    "        self.worddropout = nn.Dropout2d(p=dropout_rate)\n",
    "        \n",
    "        # Define the conductor and note decoder\n",
    "        self.conductor = nn.LSTM(decoders_initial_size, decoders_initial_size, num_layers=1,batch_first=True)\n",
    "        self.decoder = nn.LSTM(NUM_PITCHES+decoders_initial_size, decoders_initial_size, num_layers=1,batch_first=True)\n",
    "        \n",
    "        # Linear note to note type (classes/pitches)\n",
    "        self.linear = nn.Linear(decoders_initial_size, NUM_PITCHES)\n"
   ]
  }
 ],
 "metadata": {
  "kernelspec": {
   "display_name": "Python 3",
   "language": "python",
   "name": "python3"
  },
  "language_info": {
   "codemirror_mode": {
    "name": "ipython",
    "version": 3
   },
   "file_extension": ".py",
   "mimetype": "text/x-python",
   "name": "python",
   "nbconvert_exporter": "python",
   "pygments_lexer": "ipython3",
   "version": "3.6.8"
  }
 },
 "nbformat": 4,
 "nbformat_minor": 2
}
